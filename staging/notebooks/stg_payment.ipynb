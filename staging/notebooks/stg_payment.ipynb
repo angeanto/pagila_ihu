{
 "cells": [
  {
   "cell_type": "markdown",
   "metadata": {
    "id": "9HqTeSBGu11v"
   },
   "source": [
    "# Setup - Install Libraries"
   ]
  },
  {
   "cell_type": "code",
   "execution_count": 1,
   "metadata": {
    "ExecuteTime": {
     "end_time": "2024-09-09T12:20:52.803599Z",
     "start_time": "2024-09-09T12:20:52.801446Z"
    },
    "id": "i9MWENRZv6wi"
   },
   "outputs": [],
   "source": [
    "# Run the following commands once, in order to install libraries - DO NOT Uncomment this line.\n",
    "\n",
    "# Uncomment below lines\n",
    "\n",
    "# !pip3 install --upgrade pip\n",
    "# !pip install google-cloud-bigquery\n",
    "# !pip install pandas-gbq -U\n",
    "# !pip install db-dtypes\n",
    "# !pip install packaging --upgrade"
   ]
  },
  {
   "cell_type": "markdown",
   "metadata": {
    "id": "_CpT-WJ36NGL"
   },
   "source": [
    "# Import libraries"
   ]
  },
  {
   "cell_type": "code",
   "execution_count": 2,
   "metadata": {
    "ExecuteTime": {
     "end_time": "2024-09-09T12:20:53.237986Z",
     "start_time": "2024-09-09T12:20:52.804689Z"
    },
    "colab": {
     "base_uri": "https://localhost:8080/"
    },
    "id": "sSRmqrbW0g6l",
    "outputId": "202e3a2a-953a-4ee3-f431-3e234b2435c6"
   },
   "outputs": [
    {
     "name": "stderr",
     "output_type": "stream",
     "text": [
      "/Users/antonesangelakes/Library/Python/3.9/lib/python/site-packages/urllib3/__init__.py:35: NotOpenSSLWarning: urllib3 v2 only supports OpenSSL 1.1.1+, currently the 'ssl' module is compiled with 'LibreSSL 2.8.3'. See: https://github.com/urllib3/urllib3/issues/3020\n",
      "  warnings.warn(\n"
     ]
    },
    {
     "name": "stdout",
     "output_type": "stream",
     "text": [
      "Libraries imported successfully\n"
     ]
    }
   ],
   "source": [
    "# Import libraries\n",
    "from google.cloud import bigquery\n",
    "import pandas as pd\n",
    "from pandas_gbq import to_gbq\n",
    "import os\n",
    "\n",
    "print('Libraries imported successfully')"
   ]
  },
  {
   "cell_type": "code",
   "execution_count": 3,
   "metadata": {
    "ExecuteTime": {
     "end_time": "2024-09-09T12:20:53.241082Z",
     "start_time": "2024-09-09T12:20:53.239456Z"
    },
    "id": "FbCp3e1_v6wl"
   },
   "outputs": [],
   "source": [
    "# Set the environment variable for Google Cloud credentials\n",
    "# Place the path in which the .json file is located.\n",
    "\n",
    "# Example (if .json is located in the same directory with the notebook)\n",
    "# os.environ[\"GOOGLE_APPLICATION_CREDENTIALS\"] = \"at-arch-416714-6f9900ec7.json\"\n",
    "\n",
    "\n",
    "# -- YOUR CODE GOES BELOW THIS LINE\n",
    "\n",
    "os.environ[\"GOOGLE_APPLICATION_CREDENTIALS\"] = \"/Users/antonesangelakes/scripts/mineral-voyage-442817-m2-1de3ad04cf72.json\" # Edit path\n",
    "\n",
    "# -- YOUR CODE GOES ABOVE THIS LINE"
   ]
  },
  {
   "cell_type": "code",
   "execution_count": 4,
   "metadata": {
    "ExecuteTime": {
     "end_time": "2024-09-09T12:20:53.243286Z",
     "start_time": "2024-09-09T12:20:53.241699Z"
    },
    "id": "-iIRMevIsdUq"
   },
   "outputs": [],
   "source": [
    "# Set your Google Cloud project ID and BigQuery dataset details\n",
    "\n",
    "# -- YOUR CODE GOES BELOW THIS\n",
    "\n",
    "project_id = 'mineral-voyage-442817-m2' # Edit with your project id\n",
    "dataset_id = 'staging_db' # Modify the necessary schema name: staging_db, reporting_db etc.\n",
    "table_id = 'stg_payment' # Modify the necessary table name: stg_customer, stg_city etc.\n",
    "\n",
    "# -- YOUR CODE GOES ABOVE THIS LINE"
   ]
  },
  {
   "cell_type": "markdown",
   "metadata": {
    "id": "efce50tiu7jR"
   },
   "source": [
    "# SQL Query"
   ]
  },
  {
   "cell_type": "code",
   "execution_count": 5,
   "metadata": {
    "ExecuteTime": {
     "end_time": "2024-09-09T12:20:53.642883Z",
     "start_time": "2024-09-09T12:20:53.243836Z"
    },
    "colab": {
     "base_uri": "https://localhost:8080/",
     "height": 206
    },
    "id": "9twoCilaWEXU",
    "outputId": "613a2e44-40b0-47aa-a29f-4cacb6bf1784"
   },
   "outputs": [
    {
     "name": "stderr",
     "output_type": "stream",
     "text": [
      "/Users/antonesangelakes/Library/Python/3.9/lib/python/site-packages/google/cloud/bigquery/table.py:1727: UserWarning: BigQuery Storage module not found, fetch data with the REST endpoint instead.\n",
      "  warnings.warn(\n"
     ]
    },
    {
     "data": {
      "text/html": [
       "<div>\n",
       "<style scoped>\n",
       "    .dataframe tbody tr th:only-of-type {\n",
       "        vertical-align: middle;\n",
       "    }\n",
       "\n",
       "    .dataframe tbody tr th {\n",
       "        vertical-align: top;\n",
       "    }\n",
       "\n",
       "    .dataframe thead th {\n",
       "        text-align: right;\n",
       "    }\n",
       "</style>\n",
       "<table border=\"1\" class=\"dataframe\">\n",
       "  <thead>\n",
       "    <tr style=\"text-align: right;\">\n",
       "      <th></th>\n",
       "      <th>payment_id</th>\n",
       "      <th>customer_id</th>\n",
       "      <th>staff_id</th>\n",
       "      <th>rental_id</th>\n",
       "      <th>payment_amount</th>\n",
       "      <th>payment_date</th>\n",
       "    </tr>\n",
       "  </thead>\n",
       "  <tbody>\n",
       "    <tr>\n",
       "      <th>0</th>\n",
       "      <td>17181</td>\n",
       "      <td>256</td>\n",
       "      <td>1</td>\n",
       "      <td>51</td>\n",
       "      <td>4.990000000</td>\n",
       "      <td>2022-04-02 17:44:48.809814+00:00</td>\n",
       "    </tr>\n",
       "    <tr>\n",
       "      <th>1</th>\n",
       "      <td>19468</td>\n",
       "      <td>256</td>\n",
       "      <td>1</td>\n",
       "      <td>2839</td>\n",
       "      <td>4.990000000</td>\n",
       "      <td>2022-06-02 04:30:59.907441+00:00</td>\n",
       "    </tr>\n",
       "    <tr>\n",
       "      <th>2</th>\n",
       "      <td>19466</td>\n",
       "      <td>256</td>\n",
       "      <td>1</td>\n",
       "      <td>2380</td>\n",
       "      <td>6.990000000</td>\n",
       "      <td>2022-01-29 17:33:47.014561+00:00</td>\n",
       "    </tr>\n",
       "    <tr>\n",
       "      <th>3</th>\n",
       "      <td>17182</td>\n",
       "      <td>256</td>\n",
       "      <td>1</td>\n",
       "      <td>232</td>\n",
       "      <td>0.990000000</td>\n",
       "      <td>2022-06-27 17:11:51.745990+00:00</td>\n",
       "    </tr>\n",
       "    <tr>\n",
       "      <th>4</th>\n",
       "      <td>25045</td>\n",
       "      <td>256</td>\n",
       "      <td>1</td>\n",
       "      <td>15864</td>\n",
       "      <td>7.990000000</td>\n",
       "      <td>2022-07-26 17:20:48.982243+00:00</td>\n",
       "    </tr>\n",
       "  </tbody>\n",
       "</table>\n",
       "</div>"
      ],
      "text/plain": [
       "   payment_id  customer_id  staff_id  rental_id payment_amount  \\\n",
       "0       17181          256         1         51    4.990000000   \n",
       "1       19468          256         1       2839    4.990000000   \n",
       "2       19466          256         1       2380    6.990000000   \n",
       "3       17182          256         1        232    0.990000000   \n",
       "4       25045          256         1      15864    7.990000000   \n",
       "\n",
       "                      payment_date  \n",
       "0 2022-04-02 17:44:48.809814+00:00  \n",
       "1 2022-06-02 04:30:59.907441+00:00  \n",
       "2 2022-01-29 17:33:47.014561+00:00  \n",
       "3 2022-06-27 17:11:51.745990+00:00  \n",
       "4 2022-07-26 17:20:48.982243+00:00  "
      ]
     },
     "execution_count": 5,
     "metadata": {},
     "output_type": "execute_result"
    }
   ],
   "source": [
    "# Create a BigQuery client\n",
    "client = bigquery.Client(project=project_id)\n",
    "\n",
    "# -- YOUR CODE GOES BELOW THIS LINE\n",
    "\n",
    "# Define your SQL query here\n",
    "query = \"\"\"\n",
    "with base as (\n",
    "  select *\n",
    "  from `mineral-voyage-442817-m2.pagila_productionpublic.payment` --Your table path\n",
    "  )\n",
    "\n",
    "  , final as (\n",
    "    select\n",
    "        payment_id\n",
    "        , customer_id\n",
    "        , staff_id\n",
    "        , rental_id\n",
    "        , amount as payment_amount\n",
    "        , payment_date\n",
    "   from base\n",
    "  )\n",
    "\n",
    "  select * from final\n",
    "\"\"\"\n",
    "\n",
    "# -- YOUR CODE GOES ABOVE THIS LINE\n",
    "\n",
    "# Execute the query and store the result in a dataframe\n",
    "df = client.query(query).to_dataframe()\n",
    "\n",
    "# Explore some records\n",
    "df.head()"
   ]
  },
  {
   "cell_type": "markdown",
   "metadata": {
    "id": "kvKJQgGgu-RC"
   },
   "source": [
    "# Write to BigQuery"
   ]
  },
  {
   "cell_type": "code",
   "execution_count": 6,
   "metadata": {
    "ExecuteTime": {
     "end_time": "2024-09-09T12:20:53.643721Z",
     "start_time": "2024-09-09T12:20:53.643716Z"
    },
    "id": "vUnvx_HisjA8"
   },
   "outputs": [],
   "source": [
    "# Define the full table ID\n",
    "full_table_id = f\"{project_id}.{dataset_id}.{table_id}\"\n",
    "\n",
    "# -- YOUR CODE GOES BELOW THIS LINE\n",
    "# Define table schema based on the project description\n",
    "\n",
    "schema = [\n",
    "    bigquery.SchemaField('payment_id', 'INTEGER'),\n",
    "    bigquery.SchemaField('customer_id', 'INTEGER'),\n",
    "    bigquery.SchemaField('staff_id', 'INTEGER'),\n",
    "    bigquery.SchemaField('rental_id', 'INTEGER'),\n",
    "    bigquery.SchemaField('payment_amount', 'NUMERIC'),\n",
    "    bigquery.SchemaField('payment_date', 'DATETIME')\n",
    "    ]\n",
    "\n",
    "# -- YOUR CODE GOES ABOVE THIS LINE"
   ]
  },
  {
   "cell_type": "code",
   "execution_count": 7,
   "metadata": {
    "ExecuteTime": {
     "end_time": "2024-09-09T12:20:53.644223Z",
     "start_time": "2024-09-09T12:20:53.644217Z"
    },
    "id": "du1pI09fsnsg"
   },
   "outputs": [
    {
     "name": "stdout",
     "output_type": "stream",
     "text": [
      "Table mineral-voyage-442817-m2.staging_db.stg_payment did not exist. Created and data loaded.\n"
     ]
    }
   ],
   "source": [
    "# Create a BigQuery client\n",
    "client = bigquery.Client(project=project_id)\n",
    "\n",
    "# Check if the table exists\n",
    "def table_exists(client, full_table_id):\n",
    "    try:\n",
    "        client.get_table(full_table_id)\n",
    "        return True\n",
    "    except Exception:\n",
    "        return False\n",
    "\n",
    "# Write the dataframe to the table (overwrite if it exists, create if it doesn't)\n",
    "if table_exists(client, full_table_id):\n",
    "    # If the table exists, overwrite it\n",
    "    destination_table = f\"{dataset_id}.{table_id}\"\n",
    "    # Write the dataframe to the table (overwrite if it exists)\n",
    "    to_gbq(df, destination_table, project_id=project_id, if_exists='replace')\n",
    "    print(f\"Table {full_table_id} exists. Overwritten.\")\n",
    "else:\n",
    "    # If the table does not exist, create it\n",
    "    job_config = bigquery.LoadJobConfig(schema=schema)\n",
    "    job = client.load_table_from_dataframe(df, full_table_id, job_config=job_config)\n",
    "    job.result()  # Wait for the job to complete\n",
    "    print(f\"Table {full_table_id} did not exist. Created and data loaded.\")"
   ]
  }
 ],
 "metadata": {
  "colab": {
   "cell_execution_strategy": "setup",
   "provenance": []
  },
  "kernelspec": {
   "display_name": "Python 3 (ipykernel)",
   "language": "python",
   "name": "python3"
  },
  "language_info": {
   "codemirror_mode": {
    "name": "ipython",
    "version": 3
   },
   "file_extension": ".py",
   "mimetype": "text/x-python",
   "name": "python",
   "nbconvert_exporter": "python",
   "pygments_lexer": "ipython3",
   "version": "3.9.6"
  },
  "toc": {
   "base_numbering": 1,
   "nav_menu": {},
   "number_sections": true,
   "sideBar": true,
   "skip_h1_title": false,
   "title_cell": "Table of Contents",
   "title_sidebar": "Contents",
   "toc_cell": false,
   "toc_position": {},
   "toc_section_display": true,
   "toc_window_display": false
  }
 },
 "nbformat": 4,
 "nbformat_minor": 4
}
