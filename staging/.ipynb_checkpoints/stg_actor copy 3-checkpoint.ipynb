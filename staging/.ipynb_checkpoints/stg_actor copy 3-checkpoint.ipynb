{
 "cells": [
  {
   "cell_type": "markdown",
   "metadata": {
    "id": "9HqTeSBGu11v"
   },
   "source": [
    "# Setup - Install Libraries"
   ]
  },
  {
   "cell_type": "code",
   "execution_count": null,
   "metadata": {
    "ExecuteTime": {
     "end_time": "2024-09-09T12:20:52.803599Z",
     "start_time": "2024-09-09T12:20:52.801446Z"
    },
    "id": "i9MWENRZv6wi"
   },
   "outputs": [],
   "source": [
    "# Run the following commands once, in order to install libraries - DO NOT Uncomment this line.\n",
    "\n",
    "# Uncomment below lines\n",
    "\n",
    "# !pip3 install --upgrade pip\n",
    "# !pip install google-cloud-bigquery\n",
    "# !pip install pandas-gbq -U\n",
    "# !pip install db-dtypes\n",
    "# !pip install packaging --upgrade"
   ]
  },
  {
   "cell_type": "markdown",
   "metadata": {
    "id": "_CpT-WJ36NGL"
   },
   "source": [
    "# Import libraries"
   ]
  },
  {
   "cell_type": "code",
   "execution_count": 8,
   "metadata": {
    "ExecuteTime": {
     "end_time": "2024-09-09T12:20:53.237986Z",
     "start_time": "2024-09-09T12:20:52.804689Z"
    },
    "colab": {
     "base_uri": "https://localhost:8080/"
    },
    "id": "sSRmqrbW0g6l",
    "outputId": "202e3a2a-953a-4ee3-f431-3e234b2435c6"
   },
   "outputs": [
    {
     "name": "stderr",
     "output_type": "stream",
     "text": [
      "/Users/antonesangelakes/Library/Python/3.9/lib/python/site-packages/urllib3/__init__.py:35: NotOpenSSLWarning: urllib3 v2 only supports OpenSSL 1.1.1+, currently the 'ssl' module is compiled with 'LibreSSL 2.8.3'. See: https://github.com/urllib3/urllib3/issues/3020\n",
      "  warnings.warn(\n"
     ]
    },
    {
     "name": "stdout",
     "output_type": "stream",
     "text": [
      "Libraries imported successfully\n"
     ]
    }
   ],
   "source": [
    "# Import libraries\n",
    "from google.cloud import bigquery\n",
    "import pandas as pd\n",
    "from pandas_gbq import to_gbq\n",
    "import os\n",
    "\n",
    "print('Libraries imported successfully')"
   ]
  },
  {
   "cell_type": "code",
   "execution_count": 17,
   "metadata": {
    "ExecuteTime": {
     "end_time": "2024-09-09T12:20:53.241082Z",
     "start_time": "2024-09-09T12:20:53.239456Z"
    },
    "id": "FbCp3e1_v6wl"
   },
   "outputs": [],
   "source": [
    "# Set the environment variable for Google Cloud credentials\n",
    "# Place the path in which the .json file is located.\n",
    "\n",
    "# Example (if .json is located in the same directory with the notebook)\n",
    "# os.environ[\"GOOGLE_APPLICATION_CREDENTIALS\"] = \"at-arch-416714-6f9900ec7.json\"\n",
    "\n",
    "# -- YOUR CODE GOES BELOW THIS LINE\n",
    "os.environ[\"GOOGLE_APPLICATION_CREDENTIALS\"] = \"/Users/antonesangelakes/scripts/mineral-voyage-442817-m2-1de3ad04cf72.json\" # Edit path\n",
    "# -- YOUR CODE GOES ABOVE THIS LINE"
   ]
  },
  {
   "cell_type": "code",
   "execution_count": 18,
   "metadata": {
    "ExecuteTime": {
     "end_time": "2024-09-09T12:20:53.243286Z",
     "start_time": "2024-09-09T12:20:53.241699Z"
    },
    "id": "-iIRMevIsdUq"
   },
   "outputs": [],
   "source": [
    "# Set your Google Cloud project ID and BigQuery dataset details\n",
    "\n",
    "# -- YOUR CODE GOES BELOW THIS\n",
    "\n",
    "project_id = 'mineral-voyage-442817-m2' # Edit with your project id\n",
    "dataset_id = 'staging_db' # Modify the necessary schema name: staging_db, reporting_db etc.\n",
    "table_id = 'stg_actor' # Modify the necessary table name: stg_customer, stg_city etc.\n",
    "\n",
    "# -- YOUR CODE GOES ABOVE THIS LINE"
   ]
  },
  {
   "cell_type": "markdown",
   "metadata": {
    "id": "efce50tiu7jR"
   },
   "source": [
    "# SQL Query"
   ]
  },
  {
   "cell_type": "code",
   "execution_count": 19,
   "metadata": {
    "ExecuteTime": {
     "end_time": "2024-09-09T12:20:53.642883Z",
     "start_time": "2024-09-09T12:20:53.243836Z"
    },
    "colab": {
     "base_uri": "https://localhost:8080/",
     "height": 206
    },
    "id": "9twoCilaWEXU",
    "outputId": "613a2e44-40b0-47aa-a29f-4cacb6bf1784"
   },
   "outputs": [
    {
     "name": "stderr",
     "output_type": "stream",
     "text": [
      "/Users/antonesangelakes/Library/Python/3.9/lib/python/site-packages/google/cloud/bigquery/table.py:1727: UserWarning: BigQuery Storage module not found, fetch data with the REST endpoint instead.\n",
      "  warnings.warn(\n"
     ]
    },
    {
     "data": {
      "text/html": [
       "<div>\n",
       "<style scoped>\n",
       "    .dataframe tbody tr th:only-of-type {\n",
       "        vertical-align: middle;\n",
       "    }\n",
       "\n",
       "    .dataframe tbody tr th {\n",
       "        vertical-align: top;\n",
       "    }\n",
       "\n",
       "    .dataframe thead th {\n",
       "        text-align: right;\n",
       "    }\n",
       "</style>\n",
       "<table border=\"1\" class=\"dataframe\">\n",
       "  <thead>\n",
       "    <tr style=\"text-align: right;\">\n",
       "      <th></th>\n",
       "      <th>actor_id</th>\n",
       "      <th>actor_first_name</th>\n",
       "      <th>actor_last_name</th>\n",
       "      <th>actor_last_update</th>\n",
       "    </tr>\n",
       "  </thead>\n",
       "  <tbody>\n",
       "    <tr>\n",
       "      <th>0</th>\n",
       "      <td>148</td>\n",
       "      <td>EMILY</td>\n",
       "      <td>DEE</td>\n",
       "      <td>2022-02-15 09:34:33+00:00</td>\n",
       "    </tr>\n",
       "    <tr>\n",
       "      <th>1</th>\n",
       "      <td>138</td>\n",
       "      <td>LUCILLE</td>\n",
       "      <td>DEE</td>\n",
       "      <td>2022-02-15 09:34:33+00:00</td>\n",
       "    </tr>\n",
       "    <tr>\n",
       "      <th>2</th>\n",
       "      <td>115</td>\n",
       "      <td>HARRISON</td>\n",
       "      <td>BALE</td>\n",
       "      <td>2022-02-15 09:34:33+00:00</td>\n",
       "    </tr>\n",
       "    <tr>\n",
       "      <th>3</th>\n",
       "      <td>187</td>\n",
       "      <td>RENEE</td>\n",
       "      <td>BALL</td>\n",
       "      <td>2022-02-15 09:34:33+00:00</td>\n",
       "    </tr>\n",
       "    <tr>\n",
       "      <th>4</th>\n",
       "      <td>11</td>\n",
       "      <td>ZERO</td>\n",
       "      <td>CAGE</td>\n",
       "      <td>2022-02-15 09:34:33+00:00</td>\n",
       "    </tr>\n",
       "  </tbody>\n",
       "</table>\n",
       "</div>"
      ],
      "text/plain": [
       "   actor_id actor_first_name actor_last_name         actor_last_update\n",
       "0       148            EMILY             DEE 2022-02-15 09:34:33+00:00\n",
       "1       138          LUCILLE             DEE 2022-02-15 09:34:33+00:00\n",
       "2       115         HARRISON            BALE 2022-02-15 09:34:33+00:00\n",
       "3       187            RENEE            BALL 2022-02-15 09:34:33+00:00\n",
       "4        11             ZERO            CAGE 2022-02-15 09:34:33+00:00"
      ]
     },
     "execution_count": 19,
     "metadata": {},
     "output_type": "execute_result"
    }
   ],
   "source": [
    "# Create a BigQuery client\n",
    "client = bigquery.Client(project=project_id)\n",
    "\n",
    "# -- YOUR CODE GOES BELOW THIS LINE\n",
    "\n",
    "# Define your SQL query here\n",
    "query = \"\"\"\n",
    "with base as (\n",
    "  select *\n",
    "  from `mineral-voyage-442817-m2.pagila_productionpublic.actor` --Your table path\n",
    "  )\n",
    "\n",
    "  , final as (\n",
    "    select\n",
    "        actor_id\n",
    "        , first_name as actor_first_name\n",
    "        , last_name as actor_last_name\n",
    "        , last_update as actor_last_update\n",
    "   FROM base\n",
    "  )\n",
    "\n",
    "  select * from final\n",
    "\"\"\"\n",
    "\n",
    "# -- YOUR CODE GOES ABOVE THIS LINE\n",
    "\n",
    "# Execute the query and store the result in a dataframe\n",
    "df = client.query(query).to_dataframe()\n",
    "\n",
    "# Explore some records\n",
    "df.head()"
   ]
  },
  {
   "cell_type": "markdown",
   "metadata": {
    "id": "kvKJQgGgu-RC"
   },
   "source": [
    "# Write to BigQuery"
   ]
  },
  {
   "cell_type": "code",
   "execution_count": 20,
   "metadata": {
    "ExecuteTime": {
     "end_time": "2024-09-09T12:20:53.643721Z",
     "start_time": "2024-09-09T12:20:53.643716Z"
    },
    "id": "vUnvx_HisjA8"
   },
   "outputs": [],
   "source": [
    "# Define the full table ID\n",
    "full_table_id = f\"{project_id}.{dataset_id}.{table_id}\"\n",
    "\n",
    "# -- YOUR CODE GOES BELOW THIS LINE\n",
    "# Define table schema based on the project description\n",
    "\n",
    "schema = [\n",
    "    bigquery.SchemaField('actor_id', 'INTEGER'),\n",
    "    bigquery.SchemaField('actor_first_name', 'STRING'),\n",
    "    bigquery.SchemaField('actor_last_name', 'STRING'),\n",
    "    bigquery.SchemaField('actor_last_update', 'DATETIME'),\n",
    "    ]\n",
    "\n",
    "# -- YOUR CODE GOES ABOVE THIS LINE"
   ]
  },
  {
   "cell_type": "code",
   "execution_count": 21,
   "metadata": {
    "ExecuteTime": {
     "end_time": "2024-09-09T12:20:53.644223Z",
     "start_time": "2024-09-09T12:20:53.644217Z"
    },
    "id": "du1pI09fsnsg"
   },
   "outputs": [
    {
     "name": "stdout",
     "output_type": "stream",
     "text": [
      "Table mineral-voyage-442817-m2.staging_db.stg_actor did not exist. Created and data loaded.\n"
     ]
    }
   ],
   "source": [
    "# Create a BigQuery client\n",
    "client = bigquery.Client(project=project_id)\n",
    "\n",
    "# Check if the table exists\n",
    "def table_exists(client, full_table_id):\n",
    "    try:\n",
    "        client.get_table(full_table_id)\n",
    "        return True\n",
    "    except Exception:\n",
    "        return False\n",
    "\n",
    "# Write the dataframe to the table (overwrite if it exists, create if it doesn't)\n",
    "if table_exists(client, full_table_id):\n",
    "    # If the table exists, overwrite it\n",
    "    destination_table = f\"{dataset_id}.{table_id}\"\n",
    "    # Write the dataframe to the table (overwrite if it exists)\n",
    "    to_gbq(df, destination_table, project_id=project_id, if_exists='replace')\n",
    "    print(f\"Table {full_table_id} exists. Overwritten.\")\n",
    "else:\n",
    "    # If the table does not exist, create it\n",
    "    job_config = bigquery.LoadJobConfig(schema=schema)\n",
    "    job = client.load_table_from_dataframe(df, full_table_id, job_config=job_config)\n",
    "    job.result()  # Wait for the job to complete\n",
    "    print(f\"Table {full_table_id} did not exist. Created and data loaded.\")"
   ]
  },
  {
   "cell_type": "code",
   "execution_count": 2,
   "metadata": {
    "ExecuteTime": {
     "end_time": "2024-09-09T12:20:53.644902Z",
     "start_time": "2024-09-09T12:20:53.644895Z"
    },
    "id": "NV5475-Yv6wo"
   },
   "outputs": [
    {
     "name": "stdout",
     "output_type": "stream",
     "text": [
      "usage: jupyter.py [-h] [--version] [--config-dir] [--data-dir] [--runtime-dir]\n",
      "                  [--paths] [--json] [--debug]\n",
      "                  [subcommand]\n",
      "\n",
      "Jupyter: Interactive Computing\n",
      "\n",
      "positional arguments:\n",
      "  subcommand     the subcommand to launch\n",
      "\n",
      "optional arguments:\n",
      "  -h, --help     show this help message and exit\n",
      "  --version      show the versions of core jupyter packages and exit\n",
      "  --config-dir   show Jupyter config dir\n",
      "  --data-dir     show Jupyter data dir\n",
      "  --runtime-dir  show Jupyter runtime dir\n",
      "  --paths        show all Jupyter paths. Add --json for machine-readable\n",
      "                 format.\n",
      "  --json         output paths as machine-readable json\n",
      "  --debug        output debug information about paths\n",
      "\n",
      "Available subcommands:\n",
      "\n",
      "Jupyter command `jupyter-nbconvert` not found.\n"
     ]
    }
   ],
   "source": [
    "# Below line converts your i.pynb file to .py python executable file. Modify the input and output names based\n",
    "# on the table you are processing.\n",
    "# Example:\n",
    "# ! jupyter nbconvert stg_customer.ipynb --to python\n",
    "\n",
    "# -- YOUR CODE GOES BELOW THIS LINE\n",
    "\n",
    "!python3 -m jupyter nbconvert stg_actor.ipynb --to python\n",
    "\n",
    "# -- YOUR CODE GOES ABOVE THIS LINE"
   ]
  },
  {
   "cell_type": "code",
   "execution_count": 32,
   "metadata": {
    "id": "LczIKiZi6NGN"
   },
   "outputs": [
    {
     "name": "stdout",
     "output_type": "stream",
     "text": [
      "Defaulting to user installation because normal site-packages is not writeable\n",
      "Requirement already satisfied: nbconvert in /Users/antonesangelakes/Library/Python/3.9/lib/python/site-packages (7.16.4)\n",
      "Requirement already satisfied: beautifulsoup4 in /Users/antonesangelakes/Library/Python/3.9/lib/python/site-packages (from nbconvert) (4.12.3)\n",
      "Requirement already satisfied: bleach!=5.0.0 in /Users/antonesangelakes/Library/Python/3.9/lib/python/site-packages (from nbconvert) (6.2.0)\n",
      "Requirement already satisfied: defusedxml in /Users/antonesangelakes/Library/Python/3.9/lib/python/site-packages (from nbconvert) (0.7.1)\n",
      "Requirement already satisfied: importlib-metadata>=3.6 in /Users/antonesangelakes/Library/Python/3.9/lib/python/site-packages (from nbconvert) (8.5.0)\n",
      "Requirement already satisfied: jinja2>=3.0 in /Users/antonesangelakes/Library/Python/3.9/lib/python/site-packages (from nbconvert) (3.1.4)\n",
      "Requirement already satisfied: jupyter-core>=4.7 in /Users/antonesangelakes/Library/Python/3.9/lib/python/site-packages (from nbconvert) (5.7.2)\n",
      "Requirement already satisfied: jupyterlab-pygments in /Users/antonesangelakes/Library/Python/3.9/lib/python/site-packages (from nbconvert) (0.3.0)\n",
      "Requirement already satisfied: markupsafe>=2.0 in /Users/antonesangelakes/Library/Python/3.9/lib/python/site-packages (from nbconvert) (3.0.2)\n",
      "Requirement already satisfied: mistune<4,>=2.0.3 in /Users/antonesangelakes/Library/Python/3.9/lib/python/site-packages (from nbconvert) (3.0.2)\n",
      "Requirement already satisfied: nbclient>=0.5.0 in /Users/antonesangelakes/Library/Python/3.9/lib/python/site-packages (from nbconvert) (0.10.1)\n",
      "Requirement already satisfied: nbformat>=5.7 in /Users/antonesangelakes/Library/Python/3.9/lib/python/site-packages (from nbconvert) (5.10.4)\n",
      "Requirement already satisfied: packaging in /Users/antonesangelakes/Library/Python/3.9/lib/python/site-packages (from nbconvert) (24.2)\n",
      "Requirement already satisfied: pandocfilters>=1.4.1 in /Users/antonesangelakes/Library/Python/3.9/lib/python/site-packages (from nbconvert) (1.5.1)\n",
      "Requirement already satisfied: pygments>=2.4.1 in /Users/antonesangelakes/Library/Python/3.9/lib/python/site-packages (from nbconvert) (2.18.0)\n",
      "Requirement already satisfied: tinycss2 in /Users/antonesangelakes/Library/Python/3.9/lib/python/site-packages (from nbconvert) (1.4.0)\n",
      "Requirement already satisfied: traitlets>=5.1 in /Users/antonesangelakes/Library/Python/3.9/lib/python/site-packages (from nbconvert) (5.14.3)\n",
      "Requirement already satisfied: webencodings in /Users/antonesangelakes/Library/Python/3.9/lib/python/site-packages (from bleach!=5.0.0->nbconvert) (0.5.1)\n",
      "Requirement already satisfied: zipp>=3.20 in /Users/antonesangelakes/Library/Python/3.9/lib/python/site-packages (from importlib-metadata>=3.6->nbconvert) (3.21.0)\n",
      "Requirement already satisfied: platformdirs>=2.5 in /Users/antonesangelakes/Library/Python/3.9/lib/python/site-packages (from jupyter-core>=4.7->nbconvert) (4.3.6)\n",
      "Requirement already satisfied: jupyter-client>=6.1.12 in /Users/antonesangelakes/Library/Python/3.9/lib/python/site-packages (from nbclient>=0.5.0->nbconvert) (8.6.3)\n",
      "Requirement already satisfied: fastjsonschema>=2.15 in /Users/antonesangelakes/Library/Python/3.9/lib/python/site-packages (from nbformat>=5.7->nbconvert) (2.21.1)\n",
      "Requirement already satisfied: jsonschema>=2.6 in /Users/antonesangelakes/Library/Python/3.9/lib/python/site-packages (from nbformat>=5.7->nbconvert) (4.23.0)\n",
      "Requirement already satisfied: soupsieve>1.2 in /Users/antonesangelakes/Library/Python/3.9/lib/python/site-packages (from beautifulsoup4->nbconvert) (2.6)\n",
      "Requirement already satisfied: attrs>=22.2.0 in /Users/antonesangelakes/Library/Python/3.9/lib/python/site-packages (from jsonschema>=2.6->nbformat>=5.7->nbconvert) (24.2.0)\n",
      "Requirement already satisfied: jsonschema-specifications>=2023.03.6 in /Users/antonesangelakes/Library/Python/3.9/lib/python/site-packages (from jsonschema>=2.6->nbformat>=5.7->nbconvert) (2024.10.1)\n",
      "Requirement already satisfied: referencing>=0.28.4 in /Users/antonesangelakes/Library/Python/3.9/lib/python/site-packages (from jsonschema>=2.6->nbformat>=5.7->nbconvert) (0.35.1)\n",
      "Requirement already satisfied: rpds-py>=0.7.1 in /Users/antonesangelakes/Library/Python/3.9/lib/python/site-packages (from jsonschema>=2.6->nbformat>=5.7->nbconvert) (0.22.3)\n",
      "Requirement already satisfied: python-dateutil>=2.8.2 in /Users/antonesangelakes/Library/Python/3.9/lib/python/site-packages (from jupyter-client>=6.1.12->nbclient>=0.5.0->nbconvert) (2.9.0.post0)\n",
      "Requirement already satisfied: pyzmq>=23.0 in /Users/antonesangelakes/Library/Python/3.9/lib/python/site-packages (from jupyter-client>=6.1.12->nbclient>=0.5.0->nbconvert) (26.2.0)\n",
      "Requirement already satisfied: tornado>=6.2 in /Users/antonesangelakes/Library/Python/3.9/lib/python/site-packages (from jupyter-client>=6.1.12->nbclient>=0.5.0->nbconvert) (6.4.2)\n",
      "Requirement already satisfied: six>=1.5 in /Library/Developer/CommandLineTools/Library/Frameworks/Python3.framework/Versions/3.9/lib/python3.9/site-packages (from python-dateutil>=2.8.2->jupyter-client>=6.1.12->nbclient>=0.5.0->nbconvert) (1.15.0)\n"
     ]
    }
   ],
   "source": [
    "!python3 -m pip install nbconvert"
   ]
  },
  {
   "cell_type": "code",
   "execution_count": 1,
   "metadata": {},
   "outputs": [
    {
     "name": "stdout",
     "output_type": "stream",
     "text": [
      "Defaulting to user installation because normal site-packages is not writeable\n",
      "Requirement already satisfied: nbconvert in /Users/antonesangelakes/Library/Python/3.9/lib/python/site-packages (7.16.4)\n",
      "Requirement already satisfied: beautifulsoup4 in /Users/antonesangelakes/Library/Python/3.9/lib/python/site-packages (from nbconvert) (4.12.3)\n",
      "Requirement already satisfied: bleach!=5.0.0 in /Users/antonesangelakes/Library/Python/3.9/lib/python/site-packages (from nbconvert) (6.2.0)\n",
      "Requirement already satisfied: defusedxml in /Users/antonesangelakes/Library/Python/3.9/lib/python/site-packages (from nbconvert) (0.7.1)\n",
      "Requirement already satisfied: importlib-metadata>=3.6 in /Users/antonesangelakes/Library/Python/3.9/lib/python/site-packages (from nbconvert) (8.5.0)\n",
      "Requirement already satisfied: jinja2>=3.0 in /Users/antonesangelakes/Library/Python/3.9/lib/python/site-packages (from nbconvert) (3.1.4)\n",
      "Requirement already satisfied: jupyter-core>=4.7 in /Users/antonesangelakes/Library/Python/3.9/lib/python/site-packages (from nbconvert) (5.7.2)\n",
      "Requirement already satisfied: jupyterlab-pygments in /Users/antonesangelakes/Library/Python/3.9/lib/python/site-packages (from nbconvert) (0.3.0)\n",
      "Requirement already satisfied: markupsafe>=2.0 in /Users/antonesangelakes/Library/Python/3.9/lib/python/site-packages (from nbconvert) (3.0.2)\n",
      "Requirement already satisfied: mistune<4,>=2.0.3 in /Users/antonesangelakes/Library/Python/3.9/lib/python/site-packages (from nbconvert) (3.0.2)\n",
      "Requirement already satisfied: nbclient>=0.5.0 in /Users/antonesangelakes/Library/Python/3.9/lib/python/site-packages (from nbconvert) (0.10.1)\n",
      "Requirement already satisfied: nbformat>=5.7 in /Users/antonesangelakes/Library/Python/3.9/lib/python/site-packages (from nbconvert) (5.10.4)\n",
      "Requirement already satisfied: packaging in /Users/antonesangelakes/Library/Python/3.9/lib/python/site-packages (from nbconvert) (24.2)\n",
      "Requirement already satisfied: pandocfilters>=1.4.1 in /Users/antonesangelakes/Library/Python/3.9/lib/python/site-packages (from nbconvert) (1.5.1)\n",
      "Requirement already satisfied: pygments>=2.4.1 in /Users/antonesangelakes/Library/Python/3.9/lib/python/site-packages (from nbconvert) (2.18.0)\n",
      "Requirement already satisfied: tinycss2 in /Users/antonesangelakes/Library/Python/3.9/lib/python/site-packages (from nbconvert) (1.4.0)\n",
      "Requirement already satisfied: traitlets>=5.1 in /Users/antonesangelakes/Library/Python/3.9/lib/python/site-packages (from nbconvert) (5.14.3)\n",
      "Requirement already satisfied: webencodings in /Users/antonesangelakes/Library/Python/3.9/lib/python/site-packages (from bleach!=5.0.0->nbconvert) (0.5.1)\n",
      "Requirement already satisfied: zipp>=3.20 in /Users/antonesangelakes/Library/Python/3.9/lib/python/site-packages (from importlib-metadata>=3.6->nbconvert) (3.21.0)\n",
      "Requirement already satisfied: platformdirs>=2.5 in /Users/antonesangelakes/Library/Python/3.9/lib/python/site-packages (from jupyter-core>=4.7->nbconvert) (4.3.6)\n",
      "Requirement already satisfied: jupyter-client>=6.1.12 in /Users/antonesangelakes/Library/Python/3.9/lib/python/site-packages (from nbclient>=0.5.0->nbconvert) (8.6.3)\n",
      "Requirement already satisfied: fastjsonschema>=2.15 in /Users/antonesangelakes/Library/Python/3.9/lib/python/site-packages (from nbformat>=5.7->nbconvert) (2.21.1)\n",
      "Requirement already satisfied: jsonschema>=2.6 in /Users/antonesangelakes/Library/Python/3.9/lib/python/site-packages (from nbformat>=5.7->nbconvert) (4.23.0)\n",
      "Requirement already satisfied: soupsieve>1.2 in /Users/antonesangelakes/Library/Python/3.9/lib/python/site-packages (from beautifulsoup4->nbconvert) (2.6)\n",
      "Requirement already satisfied: attrs>=22.2.0 in /Users/antonesangelakes/Library/Python/3.9/lib/python/site-packages (from jsonschema>=2.6->nbformat>=5.7->nbconvert) (24.2.0)\n",
      "Requirement already satisfied: jsonschema-specifications>=2023.03.6 in /Users/antonesangelakes/Library/Python/3.9/lib/python/site-packages (from jsonschema>=2.6->nbformat>=5.7->nbconvert) (2024.10.1)\n",
      "Requirement already satisfied: referencing>=0.28.4 in /Users/antonesangelakes/Library/Python/3.9/lib/python/site-packages (from jsonschema>=2.6->nbformat>=5.7->nbconvert) (0.35.1)\n",
      "Requirement already satisfied: rpds-py>=0.7.1 in /Users/antonesangelakes/Library/Python/3.9/lib/python/site-packages (from jsonschema>=2.6->nbformat>=5.7->nbconvert) (0.22.3)\n",
      "Requirement already satisfied: python-dateutil>=2.8.2 in /Users/antonesangelakes/Library/Python/3.9/lib/python/site-packages (from jupyter-client>=6.1.12->nbclient>=0.5.0->nbconvert) (2.9.0.post0)\n",
      "Requirement already satisfied: pyzmq>=23.0 in /Users/antonesangelakes/Library/Python/3.9/lib/python/site-packages (from jupyter-client>=6.1.12->nbclient>=0.5.0->nbconvert) (26.2.0)\n",
      "Requirement already satisfied: tornado>=6.2 in /Users/antonesangelakes/Library/Python/3.9/lib/python/site-packages (from jupyter-client>=6.1.12->nbclient>=0.5.0->nbconvert) (6.4.2)\n",
      "Requirement already satisfied: six>=1.5 in /Library/Developer/CommandLineTools/Library/Frameworks/Python3.framework/Versions/3.9/lib/python3.9/site-packages (from python-dateutil>=2.8.2->jupyter-client>=6.1.12->nbclient>=0.5.0->nbconvert) (1.15.0)\n"
     ]
    }
   ],
   "source": [
    "!python3 -m pip install nbconvert -U"
   ]
  },
  {
   "cell_type": "code",
   "execution_count": null,
   "metadata": {},
   "outputs": [],
   "source": []
  }
 ],
 "metadata": {
  "colab": {
   "cell_execution_strategy": "setup",
   "provenance": []
  },
  "kernelspec": {
   "display_name": "Python 3 (ipykernel)",
   "language": "python",
   "name": "python3"
  },
  "language_info": {
   "codemirror_mode": {
    "name": "ipython",
    "version": 3
   },
   "file_extension": ".py",
   "mimetype": "text/x-python",
   "name": "python",
   "nbconvert_exporter": "python",
   "pygments_lexer": "ipython3",
   "version": "3.9.6"
  },
  "toc": {
   "base_numbering": 1,
   "nav_menu": {},
   "number_sections": true,
   "sideBar": true,
   "skip_h1_title": false,
   "title_cell": "Table of Contents",
   "title_sidebar": "Contents",
   "toc_cell": false,
   "toc_position": {},
   "toc_section_display": true,
   "toc_window_display": false
  }
 },
 "nbformat": 4,
 "nbformat_minor": 4
}
